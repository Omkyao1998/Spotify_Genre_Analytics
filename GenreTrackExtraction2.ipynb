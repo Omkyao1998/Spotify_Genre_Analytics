{
 "cells": [
  {
   "cell_type": "markdown",
   "id": "12f1eaf0",
   "metadata": {},
   "source": [
    "### Importing Packages"
   ]
  },
  {
   "cell_type": "code",
   "execution_count": null,
   "id": "17bd79e7",
   "metadata": {},
   "outputs": [],
   "source": [
    "import json\n",
    "import pprint\n",
    "pp = pprint.PrettyPrinter(indent=4)\n",
    "#import mysql.connector\n",
    "import pandas as pd\n",
    "import time\n",
    "import spotipy\n",
    "import numpy as np\n",
    "from spotipy.oauth2 import SpotifyClientCredentials #To access authorised Spotify data"
   ]
  },
  {
   "cell_type": "markdown",
   "id": "c7827ddc",
   "metadata": {},
   "source": [
    "### Setting up Spotipy credentials"
   ]
  },
  {
   "cell_type": "code",
   "execution_count": null,
   "id": "d6820e04",
   "metadata": {},
   "outputs": [],
   "source": [
    "client_id= \"Client_id\"\n",
    "client_secret= \"Client_Secret_Key\"\n",
    "\n",
    "client_credentials_manager = SpotifyClientCredentials(client_id=client_id, client_secret=client_secret)\n",
    "\n",
    "# spotify object to access API\n",
    "sp = spotipy.Spotify(client_credentials_manager=client_credentials_manager, retries = 10)\n",
    "\n",
    "try:\n",
    "    user = sp.user('Username')\n",
    "    print('Success!')\n",
    "    pp.pprint(user)\n",
    "except:\n",
    "    print('Connection unsuccessfull')"
   ]
  },
  {
   "cell_type": "markdown",
   "id": "eed3c418",
   "metadata": {},
   "source": [
    "### Reading the Genres"
   ]
  },
  {
   "cell_type": "code",
   "execution_count": null,
   "id": "7109651f",
   "metadata": {},
   "outputs": [],
   "source": [
    "genres = pd.read_csv('Genre_List.csv')\n",
    "genres1 = genres[51:86]\n",
    "print(len(genres1))\n",
    "genres1.head()\n",
    "genres1.loc[genres1[\"id\"] == \"Acid-jazz\"]"
   ]
  },
  {
   "cell_type": "code",
   "execution_count": null,
   "id": "0fe36178",
   "metadata": {},
   "outputs": [],
   "source": [
    "tracks = pd.read_csv('DM-AudioFeatures.csv')\n",
    "tracks['genre'] = \"\"\n",
    "tracks.head()"
   ]
  },
  {
   "cell_type": "markdown",
   "id": "6152fe5a",
   "metadata": {},
   "source": [
    "### Updating Genres For all Tracks"
   ]
  },
  {
   "cell_type": "code",
   "execution_count": null,
   "id": "ca249850",
   "metadata": {},
   "outputs": [],
   "source": []
  },
  {
   "cell_type": "code",
   "execution_count": null,
   "id": "12088b9b",
   "metadata": {},
   "outputs": [],
   "source": []
  },
  {
   "cell_type": "code",
   "execution_count": null,
   "id": "21bd5dd8",
   "metadata": {},
   "outputs": [],
   "source": [
    "def fetchTracks(name):\n",
    "    finaldataset = pd.DataFrame(columns=['trackid', 'trackname','popularity','releasedate'])\n",
    "    #finalIdList = []\n",
    "    #first search\n",
    "    result = sp.search(q='genre:' + name, type='track', limit = 50)\n",
    "    #fetch all ids\n",
    "    finaldataset = finaldataset.append(getdata(result))\n",
    "    currTracks = result['tracks']\n",
    "    currnext = result['tracks']['next']\n",
    "    print(\"Total Tracks in the Genre \" + name + \" is : \" , result['tracks']['total'])\n",
    "    i=0\n",
    "    while(currnext):\n",
    "        #print(currnext, i)\n",
    "        #second search\n",
    "        nextTracks = sp.next(currTracks)\n",
    "        finaldataset = finaldataset.append(getdata(nextTracks))\n",
    "        currTracks = nextTracks['tracks']\n",
    "        currnext = nextTracks['tracks']['next']\n",
    "        #print(currresult)\n",
    "        i=i+1\n",
    "    return finaldataset"
   ]
  },
  {
   "cell_type": "code",
   "execution_count": null,
   "id": "0e564bc3",
   "metadata": {},
   "outputs": [],
   "source": [
    "'''def getIds(result):\n",
    "    currGenreTracks = result['tracks']['items']\n",
    "    currIds = []\n",
    "    for i in range(len(currGenreTracks)):\n",
    "        currIds.append(currGenreTracks[i]['id'])\n",
    "    return currIds '''"
   ]
  },
  {
   "cell_type": "code",
   "execution_count": null,
   "id": "daf30c23",
   "metadata": {},
   "outputs": [],
   "source": [
    "'''def getdata1(result):\n",
    "    #dataset = pd.DataFrame(columns=['trackid', 'trackname','popularity','duration'])\n",
    "\n",
    "    currGenreTracks = result['tracks']['items']\n",
    "    currtrackIds = []\n",
    "    trackname = []\n",
    "    popularity = []\n",
    "    artistsids = []\n",
    "    artistsnames = []\n",
    "    releasedate = []  \n",
    "    \n",
    "    \n",
    "    for i in range(len(currGenreTracks)):\n",
    "        currtrackIds.append(currGenreTracks[i]['id'])\n",
    "        trackname.append(currGenreTracks[i]['name'])\n",
    "        popularity.append(currGenreTracks[i]['popularity'])\n",
    "        #artists.append(currGenreTracks[i]['album']['artists'])\n",
    "        releasedate.append(currGenreTracks[i]['album']['release_date'])\n",
    "        \n",
    "    dataset = pd.DataFrame({\"trackid\":currtrackIds,  # Create pandas DataFrame\n",
    "                        \"trackname\":trackname,\n",
    "                        \"popularity\":popularity,\n",
    "                        \"releasedate\":releasedate})\n",
    "    #print(dataset)\n",
    "    return dataset '''"
   ]
  },
  {
   "cell_type": "code",
   "execution_count": null,
   "id": "3adc8e98",
   "metadata": {},
   "outputs": [],
   "source": [
    "def getdata(result):\n",
    "    #dataset = pd.DataFrame(columns=['trackid', 'trackname','popularity','releasedate','artists'])\n",
    "\n",
    "    currGenreTracks = result['tracks']['items']\n",
    "    currtrackIds = []\n",
    "    trackname = []\n",
    "    popularity = []\n",
    "    artistsids = []\n",
    "    artistsnames = []\n",
    "    releasedate = []  \n",
    "    artists = []\n",
    "    \n",
    "    for i in range(len(currGenreTracks)):\n",
    "        currtrackIds.append(currGenreTracks[i]['id'])\n",
    "        trackname.append(currGenreTracks[i]['name'])\n",
    "        popularity.append(currGenreTracks[i]['popularity'])\n",
    "        getartists(currGenreTracks[i]['artists'])\n",
    "        artists.append(getartists(currGenreTracks[i]['artists']))\n",
    "        releasedate.append(currGenreTracks[i]['album']['release_date'])\n",
    "        \n",
    "    dataset = pd.DataFrame({\"trackid\":currtrackIds,  # Create pandas DataFrame\n",
    "                        \"trackname\":trackname,\n",
    "                        \"popularity\":popularity,\n",
    "                        \"releasedate\":releasedate,\n",
    "                        \"artists\":artists})\n",
    "    #print(dataset)\n",
    "    return dataset"
   ]
  },
  {
   "cell_type": "code",
   "execution_count": null,
   "id": "52858aec",
   "metadata": {},
   "outputs": [],
   "source": [
    "def getartists(data):\n",
    "    artists = {}\n",
    "    for i in range(len(data)):\n",
    "        artists['id '+str(i+1)] = data[i]['id']\n",
    "        artists['name '+str(i+1)] = data[i]['name']\n",
    "        \n",
    "    #print(artists)\n",
    "    return artists"
   ]
  },
  {
   "cell_type": "code",
   "execution_count": null,
   "id": "cc5fcf1a",
   "metadata": {},
   "outputs": [],
   "source": [
    "def get_features(dataframe):\n",
    "    # Define empty lists\n",
    "    acousticness = []\n",
    "    danceability = []\n",
    "    energy = []\n",
    "    instrumentalness = []\n",
    "    liveness = []\n",
    "    loudness = []\n",
    "    speechiness = []\n",
    "    tempo = []\n",
    "    valence = []\n",
    "    key = []\n",
    "    mode = []\n",
    "    trackids = []\n",
    "    duration = []\n",
    "\n",
    "    for index, row in dataframe.iterrows():\n",
    "\n",
    "        # Get track id\n",
    "        idx = row['trackid']\n",
    "\n",
    "        # Get corresponding features\n",
    "        features = sp.audio_features(str(idx))\n",
    "        trackids.append(idx)\n",
    "        acousticness.append(features[0]['acousticness'])\n",
    "        danceability.append(features[0]['danceability'])\n",
    "        energy.append(features[0]['energy'])\n",
    "        instrumentalness.append(features[0]['instrumentalness'])\n",
    "        liveness.append(features[0]['liveness'])\n",
    "        loudness.append(features[0]['loudness'])\n",
    "        speechiness.append(features[0]['speechiness'])\n",
    "        tempo.append(features[0]['tempo'])\n",
    "        valence.append(features[0]['valence'])\n",
    "        key.append(features[0]['key'])\n",
    "        mode.append(features[0]['mode'])\n",
    "        duration.append(features[0]['duration_ms'])\n",
    "\n",
    "    # Append the extracted infos to a new dataset\n",
    "\n",
    "    output = pd.DataFrame(columns=['trackid','acousticness', 'danceability','energy','instrumentalness','liveness','loudness','speechiness','tempo','key','mode','valence','duration'])\n",
    "    #print(output.head())\n",
    "\n",
    "    output['trackid'] = trackids\n",
    "    output['acousticness'] = acousticness\n",
    "    output['danceability'] = danceability\n",
    "    output['energy'] = energy\n",
    "    output['instrumentalness'] = instrumentalness\n",
    "    output['liveness'] = liveness\n",
    "    output['loudness'] = loudness\n",
    "    output['speechiness'] = speechiness\n",
    "    output['tempo'] = tempo\n",
    "    output['key'] = key\n",
    "    output['mode'] = mode\n",
    "    output['duration'] = duration\n",
    "    output['valence'] = valence\n",
    "\n",
    "    return output"
   ]
  },
  {
   "cell_type": "code",
   "execution_count": null,
   "id": "6d5f6bbc",
   "metadata": {
    "scrolled": false
   },
   "outputs": [],
   "source": [
    "count = 0\n",
    "dataset = pd.DataFrame(columns=['trackid', 'trackname','popularity','releasedate','artists','acousticness', 'danceability','energy','instrumentalness','liveness','loudness','speechiness','tempo','key','mode','valence','duration'])\n",
    "    #print(output.head())\n",
    "for name in genres1['id']:\n",
    "    \n",
    "    count = count + 1\n",
    "    print(\"Genre Number: \",count)\n",
    "    print(\"Genre Name: \", name)\n",
    "    finaldataset = fetchTracks(name)\n",
    "    #print(finaldataset)\n",
    "    finaldataset1 = get_features(finaldataset)\n",
    "    #print(finaldataset1)\n",
    "    mergeddataset = pd.merge(finaldataset, finaldataset1, on ='trackid')\n",
    "    mergeddataset['genre'] = name\n",
    "    dataset = dataset.append(mergeddataset)\n",
    "    #print(mergeddataset)\n",
    "    #for t_id in TrackIds:\n",
    "    #    tracks.loc[tracks['id'] == t_id, ['genre']] = name"
   ]
  },
  {
   "cell_type": "code",
   "execution_count": null,
   "id": "a6b8c1f6",
   "metadata": {},
   "outputs": [],
   "source": [
    "dataset"
   ]
  },
  {
   "cell_type": "code",
   "execution_count": null,
   "id": "89a4892d",
   "metadata": {},
   "outputs": [],
   "source": [
    "dataset.to_csv(r'D:/DCU/Spotify Assignment/ShevatchaFinalGenre2.csv', index=False, header=True)"
   ]
  },
  {
   "cell_type": "code",
   "execution_count": null,
   "id": "19ef2c26",
   "metadata": {},
   "outputs": [],
   "source": [
    "fetchTracks('rock&roll')"
   ]
  },
  {
   "cell_type": "code",
   "execution_count": null,
   "id": "a38e1f75",
   "metadata": {},
   "outputs": [],
   "source": [
    "data1 = pd.read_csv(\"D:/DCU/Spotify Assignment/FinalGenres.csv\")\n",
    "data2 = pd.read_csv(\"D:/DCU/Spotify Assignment/FinalGenres1.csv\")\n",
    "\n",
    "finaldata = data1.merge(data2,how='outer')"
   ]
  },
  {
   "cell_type": "code",
   "execution_count": null,
   "id": "9b0a669a",
   "metadata": {},
   "outputs": [],
   "source": [
    "finaldata.to_csv(r'D:/DCU/Spotify Assignment/FinalGenreData.csv', index=False)"
   ]
  },
  {
   "cell_type": "code",
   "execution_count": null,
   "id": "e13f17a0",
   "metadata": {},
   "outputs": [],
   "source": [
    "fetchTracks('Synth-Pop')"
   ]
  },
  {
   "cell_type": "code",
   "execution_count": null,
   "id": "0c30f1d8",
   "metadata": {},
   "outputs": [],
   "source": [
    "fetchTracks('Teen-pop')"
   ]
  },
  {
   "cell_type": "code",
   "execution_count": null,
   "id": "466fc413",
   "metadata": {},
   "outputs": [],
   "source": [
    "fetchTracks('Electro-pop')"
   ]
  },
  {
   "cell_type": "code",
   "execution_count": null,
   "id": "a367dec2",
   "metadata": {},
   "outputs": [],
   "source": [
    "fetchTracks('Indie-pop')"
   ]
  },
  {
   "cell_type": "code",
   "execution_count": null,
   "id": "4ea28daf",
   "metadata": {},
   "outputs": [],
   "source": [
    "fetchTracks('Bubblegum-pop')"
   ]
  },
  {
   "cell_type": "code",
   "execution_count": null,
   "id": "6891dab8",
   "metadata": {},
   "outputs": [],
   "source": [
    "fetchTracks('Power-pop')"
   ]
  },
  {
   "cell_type": "code",
   "execution_count": null,
   "id": "a04caeb8",
   "metadata": {},
   "outputs": [],
   "source": [
    "fetchTracks('Dance-pop')"
   ]
  },
  {
   "cell_type": "code",
   "execution_count": null,
   "id": "c2e51772",
   "metadata": {},
   "outputs": [],
   "source": [
    "fetchTracks('Art-pop')"
   ]
  },
  {
   "cell_type": "code",
   "execution_count": null,
   "id": "43e1ccdf",
   "metadata": {},
   "outputs": [],
   "source": [
    "fetchTracks('Alternative-Rock')"
   ]
  },
  {
   "cell_type": "code",
   "execution_count": null,
   "id": "1c928676",
   "metadata": {},
   "outputs": [],
   "source": [
    "fetchTracks('Classic-Rock')"
   ]
  },
  {
   "cell_type": "code",
   "execution_count": null,
   "id": "4f8ea646",
   "metadata": {},
   "outputs": [],
   "source": [
    "fetchTracks('Hard-Rock')"
   ]
  },
  {
   "cell_type": "code",
   "execution_count": null,
   "id": "cd3e869e",
   "metadata": {},
   "outputs": [],
   "source": [
    "fetchTracks('Soft-Rock')"
   ]
  },
  {
   "cell_type": "code",
   "execution_count": null,
   "id": "400deaea",
   "metadata": {},
   "outputs": [],
   "source": [
    "fetchTracks('Progressive-Rock')"
   ]
  },
  {
   "cell_type": "code",
   "execution_count": null,
   "id": "c768b5ec",
   "metadata": {},
   "outputs": [],
   "source": [
    "fetchTracks('Punk-Rock')"
   ]
  },
  {
   "cell_type": "code",
   "execution_count": null,
   "id": "25988938",
   "metadata": {},
   "outputs": [],
   "source": [
    "fetchTracks('Grunge-Rock')"
   ]
  },
  {
   "cell_type": "code",
   "execution_count": null,
   "id": "16459f40",
   "metadata": {},
   "outputs": [],
   "source": [
    "fetchTracks('Indie-Rock')"
   ]
  },
  {
   "cell_type": "code",
   "execution_count": null,
   "id": "c5254825",
   "metadata": {},
   "outputs": [],
   "source": [
    "fetchTracks('Old-school hip-hop')"
   ]
  },
  {
   "cell_type": "code",
   "execution_count": null,
   "id": "f5b34e49",
   "metadata": {},
   "outputs": [],
   "source": [
    "fetchTracks('Gangsta Rap')"
   ]
  },
  {
   "cell_type": "code",
   "execution_count": null,
   "id": "f6021478",
   "metadata": {},
   "outputs": [],
   "source": [
    "fetchTracks('Trap')"
   ]
  },
  {
   "cell_type": "code",
   "execution_count": null,
   "id": "8f3f8cb4",
   "metadata": {},
   "outputs": [],
   "source": [
    "fetchTracks('East-Coast hip-hop')"
   ]
  },
  {
   "cell_type": "code",
   "execution_count": null,
   "id": "62c79019",
   "metadata": {},
   "outputs": [],
   "source": [
    "fetchTracks('West-Coast hip-hop')"
   ]
  },
  {
   "cell_type": "code",
   "execution_count": null,
   "id": "8e0fcab2",
   "metadata": {},
   "outputs": [],
   "source": [
    "fetchTracks('Southern hip-hop')"
   ]
  },
  {
   "cell_type": "code",
   "execution_count": null,
   "id": "c0782a36",
   "metadata": {},
   "outputs": [],
   "source": [
    "fetchTracks('Conscious hip-hop')"
   ]
  },
  {
   "cell_type": "code",
   "execution_count": null,
   "id": "2a14e781",
   "metadata": {},
   "outputs": [],
   "source": [
    "fetchTracks('Techno')"
   ]
  },
  {
   "cell_type": "code",
   "execution_count": null,
   "id": "328e2cb2",
   "metadata": {},
   "outputs": [],
   "source": [
    "fetchTracks('House')"
   ]
  },
  {
   "cell_type": "code",
   "execution_count": null,
   "id": "b0fccd0f",
   "metadata": {},
   "outputs": [],
   "source": [
    "fetchTracks('Trance')"
   ]
  },
  {
   "cell_type": "code",
   "execution_count": null,
   "id": "5381b382",
   "metadata": {},
   "outputs": [],
   "source": [
    "fetchTracks('Dubstep')"
   ]
  },
  {
   "cell_type": "code",
   "execution_count": null,
   "id": "e71a3a35",
   "metadata": {},
   "outputs": [],
   "source": [
    "fetchTracks('EDM')"
   ]
  },
  {
   "cell_type": "code",
   "execution_count": null,
   "id": "c5e9ed11",
   "metadata": {},
   "outputs": [],
   "source": [
    "fetchTracks('Ambient')"
   ]
  },
  {
   "cell_type": "code",
   "execution_count": null,
   "id": "51d6175d",
   "metadata": {},
   "outputs": [],
   "source": [
    "fetchTracks('Drum and Bass')"
   ]
  },
  {
   "cell_type": "code",
   "execution_count": null,
   "id": "d535e15c",
   "metadata": {},
   "outputs": [],
   "source": [
    "fetchTracks('Breakbeat')"
   ]
  },
  {
   "cell_type": "code",
   "execution_count": null,
   "id": "3e3e5f33",
   "metadata": {},
   "outputs": [],
   "source": [
    "fetchTracks('Bluegrass')"
   ]
  },
  {
   "cell_type": "code",
   "execution_count": null,
   "id": "2c14d3fd",
   "metadata": {},
   "outputs": [],
   "source": [
    "fetchTracks('Country Rock')"
   ]
  },
  {
   "cell_type": "code",
   "execution_count": null,
   "id": "9f2da280",
   "metadata": {},
   "outputs": [],
   "source": [
    "fetchTracks('Western-Swing')"
   ]
  },
  {
   "cell_type": "code",
   "execution_count": null,
   "id": "8265c4c3",
   "metadata": {},
   "outputs": [],
   "source": [
    "fetchTracks('Outlaw country')"
   ]
  },
  {
   "cell_type": "code",
   "execution_count": null,
   "id": "396e5985",
   "metadata": {},
   "outputs": [],
   "source": [
    "fetchTracks('Contemporary country')"
   ]
  },
  {
   "cell_type": "code",
   "execution_count": null,
   "id": "cecd8c1a",
   "metadata": {},
   "outputs": [],
   "source": [
    "fetchTracks('Cajun')"
   ]
  },
  {
   "cell_type": "code",
   "execution_count": null,
   "id": "4ac5ff87",
   "metadata": {},
   "outputs": [],
   "source": [
    "fetchTracks('Honky-tonk')"
   ]
  },
  {
   "cell_type": "code",
   "execution_count": null,
   "id": "0e3e9863",
   "metadata": {},
   "outputs": [],
   "source": [
    "fetchTracks('Bakersfield-sound')"
   ]
  },
  {
   "cell_type": "code",
   "execution_count": null,
   "id": "1e5449a4",
   "metadata": {},
   "outputs": [],
   "source": [
    "fetchTracks('Bebop')"
   ]
  },
  {
   "cell_type": "code",
   "execution_count": null,
   "id": "814b6e9d",
   "metadata": {},
   "outputs": [],
   "source": [
    "fetchTracks('Cool jazz')"
   ]
  },
  {
   "cell_type": "code",
   "execution_count": null,
   "id": "2f0a5bbe",
   "metadata": {},
   "outputs": [],
   "source": [
    "fetchTracks('Free jazz')"
   ]
  },
  {
   "cell_type": "code",
   "execution_count": null,
   "id": "daacc410",
   "metadata": {},
   "outputs": [],
   "source": [
    "fetchTracks('Fusion')"
   ]
  },
  {
   "cell_type": "code",
   "execution_count": null,
   "id": "142d4d74",
   "metadata": {},
   "outputs": [],
   "source": [
    "fetchTracks('Swing')"
   ]
  },
  {
   "cell_type": "code",
   "execution_count": null,
   "id": "6f593751",
   "metadata": {},
   "outputs": [],
   "source": [
    "fetchTracks('Dixieland')"
   ]
  },
  {
   "cell_type": "code",
   "execution_count": null,
   "id": "779bb3d4",
   "metadata": {},
   "outputs": [],
   "source": [
    "fetchTracks('Smooth jazz')"
   ]
  },
  {
   "cell_type": "code",
   "execution_count": null,
   "id": "3c2196d6",
   "metadata": {},
   "outputs": [],
   "source": [
    "fetchTracks('Acid-jazz')"
   ]
  },
  {
   "cell_type": "code",
   "execution_count": null,
   "id": "b755b4cf",
   "metadata": {},
   "outputs": [],
   "source": [
    "fetchTracks('Funk')"
   ]
  },
  {
   "cell_type": "code",
   "execution_count": null,
   "id": "a7df4ce0",
   "metadata": {},
   "outputs": [],
   "source": [
    "fetchTracks('Neo-Soul')"
   ]
  },
  {
   "cell_type": "code",
   "execution_count": null,
   "id": "2f63e80c",
   "metadata": {},
   "outputs": [],
   "source": [
    "fetchTracks('Motown')"
   ]
  },
  {
   "cell_type": "code",
   "execution_count": null,
   "id": "a2e0dfa9",
   "metadata": {},
   "outputs": [],
   "source": [
    "fetchTracks('Contemporary R&B')"
   ]
  },
  {
   "cell_type": "code",
   "execution_count": null,
   "id": "72338573",
   "metadata": {},
   "outputs": [],
   "source": [
    "fetchTracks('Quite-storm')"
   ]
  },
  {
   "cell_type": "code",
   "execution_count": null,
   "id": "ce7fd404",
   "metadata": {},
   "outputs": [],
   "source": [
    "fetchTracks('Nothern-soul')"
   ]
  },
  {
   "cell_type": "code",
   "execution_count": null,
   "id": "ac5b3a29",
   "metadata": {},
   "outputs": [],
   "source": [
    "fetchTracks('Disco')"
   ]
  },
  {
   "cell_type": "code",
   "execution_count": null,
   "id": "4a205f11",
   "metadata": {},
   "outputs": [],
   "source": [
    "fetchTracks('Gospel')"
   ]
  },
  {
   "cell_type": "code",
   "execution_count": null,
   "id": "ac50f173",
   "metadata": {},
   "outputs": [],
   "source": [
    "fetchTracks('Baroque')"
   ]
  },
  {
   "cell_type": "code",
   "execution_count": null,
   "id": "b136cd25",
   "metadata": {},
   "outputs": [],
   "source": [
    "fetchTracks('Romantic')"
   ]
  },
  {
   "cell_type": "code",
   "execution_count": null,
   "id": "44835ebd",
   "metadata": {},
   "outputs": [],
   "source": [
    "fetchTracks('Classical period')"
   ]
  },
  {
   "cell_type": "code",
   "execution_count": null,
   "id": "9cd12013",
   "metadata": {},
   "outputs": [],
   "source": [
    "fetchTracks('Opera')"
   ]
  },
  {
   "cell_type": "code",
   "execution_count": null,
   "id": "92cbf4b0",
   "metadata": {},
   "outputs": [],
   "source": [
    "fetchTracks('Chamber Music')"
   ]
  },
  {
   "cell_type": "code",
   "execution_count": null,
   "id": "e720d7ab",
   "metadata": {},
   "outputs": [],
   "source": [
    "fetchTracks('Choral Music')"
   ]
  },
  {
   "cell_type": "code",
   "execution_count": null,
   "id": "cd6ecef9",
   "metadata": {},
   "outputs": [],
   "source": [
    "fetchTracks('Symphony')"
   ]
  },
  {
   "cell_type": "code",
   "execution_count": null,
   "id": "c5b7213a",
   "metadata": {},
   "outputs": [],
   "source": [
    "fetchTracks('Contemporary Classical')"
   ]
  },
  {
   "cell_type": "code",
   "execution_count": null,
   "id": "ae9014c5",
   "metadata": {},
   "outputs": [],
   "source": [
    "fetchTracks('Roots reggae')"
   ]
  },
  {
   "cell_type": "code",
   "execution_count": null,
   "id": "9236e81d",
   "metadata": {},
   "outputs": [],
   "source": [
    "fetchTracks('Dancehall')"
   ]
  },
  {
   "cell_type": "code",
   "execution_count": null,
   "id": "aca97a47",
   "metadata": {},
   "outputs": [],
   "source": [
    "fetchTracks('Dub')"
   ]
  },
  {
   "cell_type": "code",
   "execution_count": null,
   "id": "6dcc3d8d",
   "metadata": {},
   "outputs": [],
   "source": [
    "fetchTracks('Ska')"
   ]
  },
  {
   "cell_type": "code",
   "execution_count": null,
   "id": "bf3293d2",
   "metadata": {},
   "outputs": [],
   "source": [
    "fetchTracks('Rocksteady')"
   ]
  },
  {
   "cell_type": "code",
   "execution_count": null,
   "id": "7305bc6a",
   "metadata": {},
   "outputs": [],
   "source": [
    "fetchTracks('Ragga')"
   ]
  },
  {
   "cell_type": "code",
   "execution_count": null,
   "id": "9f6bab3d",
   "metadata": {},
   "outputs": [],
   "source": [
    "fetchTracks('Reggaeton')"
   ]
  },
  {
   "cell_type": "code",
   "execution_count": null,
   "id": "19b6b36c",
   "metadata": {},
   "outputs": [],
   "source": [
    "fetchTracks('Lovers Rock')"
   ]
  },
  {
   "cell_type": "code",
   "execution_count": null,
   "id": "e354b928",
   "metadata": {},
   "outputs": [],
   "source": [
    "fetchTracks('Delta Blues')"
   ]
  },
  {
   "cell_type": "code",
   "execution_count": null,
   "id": "3ffe0017",
   "metadata": {},
   "outputs": [],
   "source": [
    "fetchTracks('Chicago Blues')"
   ]
  },
  {
   "cell_type": "code",
   "execution_count": null,
   "id": "a8b1e0cf",
   "metadata": {},
   "outputs": [],
   "source": [
    "fetchTracks('Electric Blues')"
   ]
  },
  {
   "cell_type": "code",
   "execution_count": null,
   "id": "fbfb9b7e",
   "metadata": {},
   "outputs": [],
   "source": [
    "fetchTracks('Jump Blues')"
   ]
  },
  {
   "cell_type": "code",
   "execution_count": null,
   "id": "0dfd1738",
   "metadata": {},
   "outputs": [],
   "source": [
    "fetchTracks('Texas Blues')"
   ]
  },
  {
   "cell_type": "code",
   "execution_count": null,
   "id": "1a405385",
   "metadata": {},
   "outputs": [],
   "source": [
    "fetchTracks('Soul Blues')"
   ]
  },
  {
   "cell_type": "code",
   "execution_count": null,
   "id": "1fd1b631",
   "metadata": {},
   "outputs": [],
   "source": [
    "fetchTracks('British Blues')"
   ]
  },
  {
   "cell_type": "code",
   "execution_count": null,
   "id": "f78f5a5d",
   "metadata": {},
   "outputs": [],
   "source": [
    "fetchTracks('Swamp Blues')"
   ]
  },
  {
   "cell_type": "code",
   "execution_count": null,
   "id": "3710ff4b",
   "metadata": {},
   "outputs": [],
   "source": [
    "fetchTracks('Traditional folk')"
   ]
  },
  {
   "cell_type": "code",
   "execution_count": null,
   "id": "b6cfb3da",
   "metadata": {},
   "outputs": [],
   "source": [
    "fetchTracks('Singer-Songwriter')"
   ]
  },
  {
   "cell_type": "code",
   "execution_count": null,
   "id": "d1438a30",
   "metadata": {},
   "outputs": [],
   "source": [
    "fetchTracks('Americana')"
   ]
  },
  {
   "cell_type": "code",
   "execution_count": null,
   "id": "049dac6d",
   "metadata": {},
   "outputs": [],
   "source": [
    "fetchTracks('Celtic folk')"
   ]
  },
  {
   "cell_type": "code",
   "execution_count": null,
   "id": "506541f0",
   "metadata": {},
   "outputs": [],
   "source": [
    "fetchTracks('World-folk')"
   ]
  },
  {
   "cell_type": "code",
   "execution_count": null,
   "id": "e265e445",
   "metadata": {},
   "outputs": [],
   "source": [
    "fetchTracks('Indie folk')"
   ]
  },
  {
   "cell_type": "code",
   "execution_count": null,
   "id": "e4317068",
   "metadata": {},
   "outputs": [],
   "source": [
    "fetchTracks('Bluegrass')"
   ]
  },
  {
   "cell_type": "code",
   "execution_count": null,
   "id": "823e2701",
   "metadata": {},
   "outputs": [],
   "source": [
    "fetchTracks('Protest music')"
   ]
  },
  {
   "cell_type": "code",
   "execution_count": null,
   "id": "7a0a6436",
   "metadata": {},
   "outputs": [],
   "source": [
    "fetchTracks('Thrash Metal')"
   ]
  },
  {
   "cell_type": "code",
   "execution_count": null,
   "id": "96a10566",
   "metadata": {},
   "outputs": [],
   "source": [
    "fetchTracks('Death Metal')"
   ]
  },
  {
   "cell_type": "code",
   "execution_count": null,
   "id": "c5488710",
   "metadata": {},
   "outputs": [],
   "source": [
    "fetchTracks('Heavy Metal')"
   ]
  },
  {
   "cell_type": "code",
   "execution_count": null,
   "id": "c38864a9",
   "metadata": {},
   "outputs": [],
   "source": [
    "fetchTracks('Power Metal')"
   ]
  },
  {
   "cell_type": "code",
   "execution_count": null,
   "id": "a6f6e767",
   "metadata": {},
   "outputs": [],
   "source": [
    "fetchTracks('Black Metal')"
   ]
  },
  {
   "cell_type": "code",
   "execution_count": null,
   "id": "c84ec5a9",
   "metadata": {},
   "outputs": [],
   "source": [
    "fetchTracks('Symphonic-Metal')"
   ]
  },
  {
   "cell_type": "code",
   "execution_count": null,
   "id": "fc88a399",
   "metadata": {},
   "outputs": [],
   "source": [
    "fetchTracks('Doom-Metal')"
   ]
  },
  {
   "cell_type": "code",
   "execution_count": null,
   "id": "fc803975",
   "metadata": {},
   "outputs": [],
   "source": [
    "fetchTracks('Progressive Metal')"
   ]
  },
  {
   "cell_type": "code",
   "execution_count": null,
   "id": "bfb2347a",
   "metadata": {},
   "outputs": [],
   "source": [
    "fetchTracks('Hardcore punk')"
   ]
  },
  {
   "cell_type": "code",
   "execution_count": null,
   "id": "6c0c12c9",
   "metadata": {},
   "outputs": [],
   "source": [
    "fetchTracks('Pop punk')"
   ]
  },
  {
   "cell_type": "code",
   "execution_count": null,
   "id": "8e4b5ac2",
   "metadata": {},
   "outputs": [],
   "source": [
    "fetchTracks('Skate-punk')"
   ]
  },
  {
   "cell_type": "code",
   "execution_count": null,
   "id": "838ad438",
   "metadata": {},
   "outputs": [],
   "source": [
    "fetchTracks('Emo')"
   ]
  },
  {
   "cell_type": "code",
   "execution_count": null,
   "id": "13a9a87f",
   "metadata": {},
   "outputs": [],
   "source": [
    "fetchTracks('Garage-punk')"
   ]
  },
  {
   "cell_type": "code",
   "execution_count": null,
   "id": "0f3c7aa6",
   "metadata": {},
   "outputs": [],
   "source": [
    "fetchTracks('Anarcho-punk')"
   ]
  },
  {
   "cell_type": "code",
   "execution_count": null,
   "id": "0b71b9ab",
   "metadata": {},
   "outputs": [],
   "source": [
    "fetchTracks('Post-punk')"
   ]
  },
  {
   "cell_type": "code",
   "execution_count": null,
   "id": "66936851",
   "metadata": {},
   "outputs": [],
   "source": [
    "fetchTracks('Riot-grrrl')"
   ]
  },
  {
   "cell_type": "code",
   "execution_count": null,
   "id": "f11ea069",
   "metadata": {},
   "outputs": [],
   "source": [
    "fetchTracks('African')"
   ]
  },
  {
   "cell_type": "code",
   "execution_count": null,
   "id": "c190db71",
   "metadata": {},
   "outputs": [],
   "source": [
    "fetchTracks('Indian')"
   ]
  },
  {
   "cell_type": "code",
   "execution_count": null,
   "id": "3fedbe63",
   "metadata": {},
   "outputs": [],
   "source": [
    "fetchTracks('Latin American')"
   ]
  },
  {
   "cell_type": "code",
   "execution_count": null,
   "id": "b6d49a6e",
   "metadata": {},
   "outputs": [],
   "source": [
    "fetchTracks('Middle-Eastern')"
   ]
  },
  {
   "cell_type": "code",
   "execution_count": null,
   "id": "02b077ce",
   "metadata": {},
   "outputs": [],
   "source": [
    "fetchTracks('Asian')"
   ]
  },
  {
   "cell_type": "code",
   "execution_count": null,
   "id": "654675e0",
   "metadata": {},
   "outputs": [],
   "source": [
    "fetchTracks('Celtic')"
   ]
  },
  {
   "cell_type": "code",
   "execution_count": null,
   "id": "d3ca43e6",
   "metadata": {},
   "outputs": [],
   "source": [
    "fetchTracks('Gypsy')"
   ]
  },
  {
   "cell_type": "code",
   "execution_count": null,
   "id": "fe26200f",
   "metadata": {},
   "outputs": [],
   "source": [
    "fetchTracks('Indigenous')"
   ]
  },
  {
   "cell_type": "code",
   "execution_count": null,
   "id": "903e1339",
   "metadata": {},
   "outputs": [],
   "source": [
    "fetchTracks('P-funk')"
   ]
  },
  {
   "cell_type": "code",
   "execution_count": null,
   "id": "9f72f4ce",
   "metadata": {},
   "outputs": [],
   "source": [
    "fetchTracks('Jazz-funk')"
   ]
  },
  {
   "cell_type": "code",
   "execution_count": null,
   "id": "bc64b3ab",
   "metadata": {},
   "outputs": [],
   "source": [
    "fetchTracks('Disco')"
   ]
  },
  {
   "cell_type": "code",
   "execution_count": null,
   "id": "d48b5c80",
   "metadata": {},
   "outputs": [],
   "source": [
    "fetchTracks('G-Funk')"
   ]
  },
  {
   "cell_type": "code",
   "execution_count": null,
   "id": "d30c7777",
   "metadata": {},
   "outputs": [],
   "source": [
    "fetchTracks('Acid-Jazz')"
   ]
  },
  {
   "cell_type": "code",
   "execution_count": null,
   "id": "8a0b72b1",
   "metadata": {},
   "outputs": [],
   "source": [
    "fetchTracks('Boogie')"
   ]
  },
  {
   "cell_type": "code",
   "execution_count": null,
   "id": "6ea16f0b",
   "metadata": {},
   "outputs": [],
   "source": [
    "fetchTracks('Electro funk')"
   ]
  },
  {
   "cell_type": "code",
   "execution_count": null,
   "id": "0d4b66c0",
   "metadata": {},
   "outputs": [],
   "source": [
    "fetchTracks('Funk rock')"
   ]
  },
  {
   "cell_type": "code",
   "execution_count": null,
   "id": "d68cfe93",
   "metadata": {},
   "outputs": [],
   "source": [
    "fetchTracks('Black Gospel')"
   ]
  },
  {
   "cell_type": "code",
   "execution_count": null,
   "id": "7834056d",
   "metadata": {},
   "outputs": [],
   "source": [
    "fetchTracks('Southern Gospel')"
   ]
  },
  {
   "cell_type": "code",
   "execution_count": null,
   "id": "f3872097",
   "metadata": {},
   "outputs": [],
   "source": [
    "fetchTracks('Contemporary Christian')"
   ]
  },
  {
   "cell_type": "code",
   "execution_count": null,
   "id": "ee06642e",
   "metadata": {},
   "outputs": [],
   "source": [
    "fetchTracks('Gospel Blues')"
   ]
  },
  {
   "cell_type": "code",
   "execution_count": null,
   "id": "b42a9c6b",
   "metadata": {},
   "outputs": [],
   "source": [
    "fetchTracks('Christian Rock')"
   ]
  },
  {
   "cell_type": "code",
   "execution_count": null,
   "id": "5186451f",
   "metadata": {},
   "outputs": [],
   "source": [
    "fetchTracks('Gospel-Rap')"
   ]
  },
  {
   "cell_type": "code",
   "execution_count": null,
   "id": "47be5c20",
   "metadata": {},
   "outputs": [],
   "source": [
    "fetchTracks('Urban Contemporary Gospel')"
   ]
  },
  {
   "cell_type": "code",
   "execution_count": null,
   "id": "e4979f4e",
   "metadata": {},
   "outputs": [],
   "source": [
    "fetchTracks('Gospel-Jazz')"
   ]
  },
  {
   "cell_type": "code",
   "execution_count": null,
   "id": "0093a040",
   "metadata": {},
   "outputs": [],
   "source": [
    "fetchTracks('Indie rock')"
   ]
  },
  {
   "cell_type": "code",
   "execution_count": null,
   "id": "b7b3f0e3",
   "metadata": {},
   "outputs": [],
   "source": [
    "fetchTracks('Indie Pop')"
   ]
  },
  {
   "cell_type": "code",
   "execution_count": null,
   "id": "2af619bc",
   "metadata": {},
   "outputs": [],
   "source": [
    "fetchTracks('Folk rock')"
   ]
  },
  {
   "cell_type": "code",
   "execution_count": null,
   "id": "ba4c9b6d",
   "metadata": {},
   "outputs": [],
   "source": [
    "fetchTracks('Shoegaze')"
   ]
  },
  {
   "cell_type": "code",
   "execution_count": null,
   "id": "b81a5113",
   "metadata": {},
   "outputs": [],
   "source": [
    "fetchTracks('Dream-pop')"
   ]
  },
  {
   "cell_type": "code",
   "execution_count": null,
   "id": "b4be8112",
   "metadata": {},
   "outputs": [],
   "source": [
    "fetchTracks('Post-rock')"
   ]
  },
  {
   "cell_type": "code",
   "execution_count": null,
   "id": "9b7d1eed",
   "metadata": {},
   "outputs": [],
   "source": [
    "fetchTracks('Chamber-pop')"
   ]
  },
  {
   "cell_type": "code",
   "execution_count": null,
   "id": "b1b42932",
   "metadata": {},
   "outputs": [],
   "source": [
    "fetchTracks('Math-rock')"
   ]
  },
  {
   "cell_type": "code",
   "execution_count": null,
   "id": "22cbaa94",
   "metadata": {},
   "outputs": [],
   "source": [
    "fetchTracks('Salsa')"
   ]
  },
  {
   "cell_type": "code",
   "execution_count": null,
   "id": "d381f525",
   "metadata": {},
   "outputs": [],
   "source": [
    "fetchTracks('Reggaeton')"
   ]
  },
  {
   "cell_type": "code",
   "execution_count": null,
   "id": "249860bf",
   "metadata": {},
   "outputs": [],
   "source": [
    "fetchTracks('Bachata')"
   ]
  },
  {
   "cell_type": "code",
   "execution_count": null,
   "id": "1445ccb9",
   "metadata": {},
   "outputs": [],
   "source": [
    "fetchTracks('Merengue')"
   ]
  },
  {
   "cell_type": "code",
   "execution_count": null,
   "id": "ce4c3336",
   "metadata": {},
   "outputs": [],
   "source": [
    "fetchTracks('Cumbia')"
   ]
  },
  {
   "cell_type": "code",
   "execution_count": null,
   "id": "f7c76f62",
   "metadata": {},
   "outputs": [],
   "source": [
    "fetchTracks('Latin Jazz')"
   ]
  },
  {
   "cell_type": "code",
   "execution_count": null,
   "id": "82572a91",
   "metadata": {},
   "outputs": [],
   "source": [
    "fetchTracks('Tango')"
   ]
  },
  {
   "cell_type": "code",
   "execution_count": null,
   "id": "f453bf12",
   "metadata": {},
   "outputs": [],
   "source": [
    "fetchTracks('Mariachi')"
   ]
  },
  {
   "cell_type": "code",
   "execution_count": null,
   "id": "984ec404",
   "metadata": {},
   "outputs": [],
   "source": [
    "fetchTracks('Meditation')"
   ]
  },
  {
   "cell_type": "code",
   "execution_count": null,
   "id": "dacdb050",
   "metadata": {},
   "outputs": [],
   "source": [
    "fetchTracks('Nature-Sound')"
   ]
  },
  {
   "cell_type": "code",
   "execution_count": null,
   "id": "58d971ce",
   "metadata": {},
   "outputs": [],
   "source": [
    "fetchTracks('World-fusion')"
   ]
  },
  {
   "cell_type": "code",
   "execution_count": null,
   "id": "187bf21c",
   "metadata": {},
   "outputs": [],
   "source": [
    "fetchTracks('Space Music')"
   ]
  },
  {
   "cell_type": "code",
   "execution_count": null,
   "id": "3b88502d",
   "metadata": {},
   "outputs": [],
   "source": [
    "fetchTracks('Ambient dub')"
   ]
  },
  {
   "cell_type": "code",
   "execution_count": null,
   "id": "87974354",
   "metadata": {},
   "outputs": [],
   "source": [
    "fetchTracks('Progressive electronic')"
   ]
  },
  {
   "cell_type": "code",
   "execution_count": null,
   "id": "affc0a7a",
   "metadata": {},
   "outputs": [],
   "source": [
    "fetchTracks('Ethereal')"
   ]
  },
  {
   "cell_type": "code",
   "execution_count": null,
   "id": "368353a8",
   "metadata": {},
   "outputs": [],
   "source": [
    "fetchTracks('Drone')"
   ]
  },
  {
   "cell_type": "code",
   "execution_count": null,
   "id": "e1aea93b",
   "metadata": {},
   "outputs": [],
   "source": [
    "fetchTracks('College Rock')"
   ]
  },
  {
   "cell_type": "code",
   "execution_count": null,
   "id": "04595f9f",
   "metadata": {},
   "outputs": [],
   "source": [
    "fetchTracks('Grunge')"
   ]
  },
  {
   "cell_type": "code",
   "execution_count": null,
   "id": "df3bdc38",
   "metadata": {},
   "outputs": [],
   "source": [
    "fetchTracks('Shoegaze')"
   ]
  },
  {
   "cell_type": "code",
   "execution_count": null,
   "id": "a603beb3",
   "metadata": {},
   "outputs": [],
   "source": [
    "fetchTracks('Post-punk')"
   ]
  },
  {
   "cell_type": "code",
   "execution_count": null,
   "id": "2db8ae48",
   "metadata": {},
   "outputs": [],
   "source": [
    "fetchTracks('Noise rock')"
   ]
  },
  {
   "cell_type": "code",
   "execution_count": null,
   "id": "45e90847",
   "metadata": {},
   "outputs": [],
   "source": [
    "fetchTracks('Indie rock')"
   ]
  },
  {
   "cell_type": "code",
   "execution_count": null,
   "id": "8cfd31a5",
   "metadata": {},
   "outputs": [],
   "source": [
    "fetchTracks('Britpop')"
   ]
  },
  {
   "cell_type": "code",
   "execution_count": null,
   "id": "f9cec4e6",
   "metadata": {},
   "outputs": [],
   "source": [
    "fetchTracks('Emo')"
   ]
  },
  {
   "cell_type": "code",
   "execution_count": null,
   "id": "2431bdcc",
   "metadata": {},
   "outputs": [],
   "source": []
  },
  {
   "cell_type": "code",
   "execution_count": null,
   "id": "01963165",
   "metadata": {},
   "outputs": [],
   "source": [
    "data1 = pd.read_csv(\"D:/DCU/Spotify Assignment/ShevatchaFinalGenre.csv\")\n",
    "data2 = pd.read_csv(\"D:/DCU/Spotify Assignment/ShevatchaFinalGenre1.csv\")\n",
    "data3 = pd.read_csv(\"D:/DCU/Spotify Assignment/ShevatchaFinalGenre2.csv\")\n",
    "dataFrame = data1.merge(data2,how='outer')\n"
   ]
  },
  {
   "cell_type": "code",
   "execution_count": null,
   "id": "6ccf3bb3",
   "metadata": {},
   "outputs": [],
   "source": [
    "data4 = data3.merge(dataFrame,how='outer')"
   ]
  },
  {
   "cell_type": "code",
   "execution_count": null,
   "id": "bd5d15a6",
   "metadata": {},
   "outputs": [],
   "source": [
    "data4.to_csv(r'D:/DCU/Spotify Assignment/ShevatcheGenresFinally.csv', index=False)"
   ]
  },
  {
   "cell_type": "code",
   "execution_count": null,
   "id": "ce94d742",
   "metadata": {},
   "outputs": [],
   "source": []
  }
 ],
 "metadata": {
  "kernelspec": {
   "display_name": "Python 3",
   "language": "python",
   "name": "python3"
  },
  "language_info": {
   "codemirror_mode": {
    "name": "ipython",
    "version": 3
   },
   "file_extension": ".py",
   "mimetype": "text/x-python",
   "name": "python",
   "nbconvert_exporter": "python",
   "pygments_lexer": "ipython3",
   "version": "3.8.8"
  }
 },
 "nbformat": 4,
 "nbformat_minor": 5
}
