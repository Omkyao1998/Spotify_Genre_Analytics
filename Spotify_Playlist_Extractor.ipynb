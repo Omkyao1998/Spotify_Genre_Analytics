{
 "cells": [
  {
   "cell_type": "code",
   "execution_count": null,
   "id": "90e96ba2",
   "metadata": {},
   "outputs": [],
   "source": [
    "import json\n",
    "import pprint\n",
    "pp = pprint.PrettyPrinter(indent=4)\n",
    "\n",
    "import pandas as pd\n",
    "\n",
    "import spotipy\n",
    "from spotipy.oauth2 import SpotifyClientCredentials #To access authorised Spotify data"
   ]
  },
  {
   "cell_type": "code",
   "execution_count": null,
   "id": "26f54156",
   "metadata": {},
   "outputs": [],
   "source": [
    "client_id= \"Client_id\"\n",
    "client_secret= \"Client_Secret_Key\"\n",
    "\n",
    "client_credentials_manager = SpotifyClientCredentials(client_id=client_id, client_secret=client_secret)\n",
    "\n",
    "# spotify object to access API\n",
    "sp = spotipy.Spotify(client_credentials_manager=client_credentials_manager)\n",
    "\n",
    "try:\n",
    "    user = sp.user('Username')\n",
    "    print('Success!')\n",
    "    pp.pprint(user)\n",
    "except:\n",
    "    print('Connection unsuccessfull')"
   ]
  },
  {
   "cell_type": "code",
   "execution_count": null,
   "id": "b7b82540",
   "metadata": {},
   "outputs": [],
   "source": [
    "def get_playlist(playlist_id):\n",
    "    # Define Playlist\n",
    "    dic = sp.playlist_tracks(playlist_id)\n",
    "\n",
    "    # Set up empty listsa\n",
    "    artists = []\n",
    "    track_name = []\n",
    "    track_id = []\n",
    "    track_duration = []\n",
    "    track_popularity = []\n",
    "\n",
    "    # Parse to dictionary\n",
    "    for track in dic['items']:\n",
    "        artists.append(track['track']['artists'][0]['name'])\n",
    "        track_name.append(track['track']['name'])\n",
    "        track_id.append(track['track']['id'])\n",
    "        track_duration.append(track['track']['duration_ms'])\n",
    "        track_popularity.append(track['track']['popularity'])\n",
    "\n",
    "    # Create pandas DataFrame\n",
    "    playlist = {\n",
    "      'track_name' : track_name,\n",
    "      'artist' : artists,\n",
    "      'track_id' : track_id,\n",
    "      'track_duration' : track_duration,\n",
    "      'track_popularity' : track_popularity\n",
    "    }\n",
    "\n",
    "    return pd.DataFrame(playlist)"
   ]
  },
  {
   "cell_type": "code",
   "execution_count": null,
   "id": "26259dcb",
   "metadata": {},
   "outputs": [],
   "source": [
    "def get_features(dataframe):\n",
    "    # Define empty lists\n",
    "    acousticness = []\n",
    "    danceability = []\n",
    "    energy = []\n",
    "    instrumentalness = []\n",
    "    liveness = []\n",
    "    loudness = []\n",
    "    speechiness = []\n",
    "    tempo = []\n",
    "    valence = []\n",
    "    key = []\n",
    "    mode = []\n",
    "\n",
    "    for index, row in dataframe.iterrows():\n",
    "\n",
    "        # Get track id\n",
    "        idx = row['track_id']\n",
    "\n",
    "        # Get corresponding features\n",
    "        features = sp.audio_features(str(idx))\n",
    "\n",
    "        acousticness.append(features[0]['acousticness'])\n",
    "        danceability.append(features[0]['danceability'])\n",
    "        energy.append(features[0]['energy'])\n",
    "        instrumentalness.append(features[0]['instrumentalness'])\n",
    "        liveness.append(features[0]['liveness'])\n",
    "        loudness.append(features[0]['loudness'])\n",
    "        speechiness.append(features[0]['speechiness'])\n",
    "        tempo.append(features[0]['tempo'])\n",
    "        valence.append(features[0]['valence'])\n",
    "        key.append(features[0]['key'])\n",
    "        mode.append(features[0]['mode'])\n",
    "\n",
    "    # Append the extracted infos to a new dataset\n",
    "\n",
    "    output = dataframe.copy()\n",
    "    #print(output.head())\n",
    "\n",
    "    output['acousticness'] = acousticness\n",
    "    output['danceability'] = danceability\n",
    "    output['energy'] = energy\n",
    "    output['instrumentalness'] = instrumentalness\n",
    "    output['liveness'] = liveness\n",
    "    output['loudness'] = loudness\n",
    "    output['speechiness'] = speechiness\n",
    "    output['tempo'] = tempo\n",
    "    output['key'] = key\n",
    "    output['mode'] = mode\n",
    "\n",
    "    return output"
   ]
  },
  {
   "cell_type": "code",
   "execution_count": null,
   "id": "2d40afa7",
   "metadata": {},
   "outputs": [],
   "source": [
    "def get_track_informations(playlist_id):\n",
    "    playlist = get_playlist(playlist_id)\n",
    "    return get_features(playlist)"
   ]
  },
  {
   "cell_type": "code",
   "execution_count": null,
   "id": "8a17af9a",
   "metadata": {},
   "outputs": [],
   "source": [
    "punjabi_pop = get_track_informations('29oAaikjipuB9XdfLaKwzx')"
   ]
  },
  {
   "cell_type": "code",
   "execution_count": null,
   "id": "7a380b8b",
   "metadata": {},
   "outputs": [],
   "source": [
    "punjabi_pop.head()"
   ]
  },
  {
   "cell_type": "code",
   "execution_count": null,
   "id": "ba5dad45",
   "metadata": {},
   "outputs": [],
   "source": [
    "punjabi_pop.to_csv(\"D:/SAYALI/CA683-DataMining/spotify/Genre/punjabi_pop.csv\",index=False)"
   ]
  },
  {
   "cell_type": "code",
   "execution_count": null,
   "id": "df1ddcdf",
   "metadata": {},
   "outputs": [],
   "source": [
    "name = 'detroit hip hop'\n",
    "results = sp.search(q='genre:' + name, type='track', limit = 1)"
   ]
  },
  {
   "cell_type": "code",
   "execution_count": null,
   "id": "3604a93c",
   "metadata": {},
   "outputs": [],
   "source": [
    "print(results)"
   ]
  },
  {
   "cell_type": "code",
   "execution_count": null,
   "id": "df4d1378",
   "metadata": {},
   "outputs": [],
   "source": [
    "print(type(results))"
   ]
  },
  {
   "cell_type": "code",
   "execution_count": null,
   "id": "2abef98c",
   "metadata": {},
   "outputs": [],
   "source": [
    "print(results['tracks']['items']['id'])"
   ]
  },
  {
   "cell_type": "code",
   "execution_count": null,
   "id": "d58ec2d1",
   "metadata": {},
   "outputs": [],
   "source": [
    "print(results.keys())"
   ]
  },
  {
   "cell_type": "code",
   "execution_count": null,
   "id": "70d472a0",
   "metadata": {},
   "outputs": [],
   "source": [
    "print(type(results['tracks']['items']))"
   ]
  },
  {
   "cell_type": "code",
   "execution_count": null,
   "id": "8d8e9673",
   "metadata": {},
   "outputs": [],
   "source": [
    "trackList = results['tracks']['items']"
   ]
  },
  {
   "cell_type": "code",
   "execution_count": null,
   "id": "c4f7701b",
   "metadata": {},
   "outputs": [],
   "source": [
    "print(type(trackList))"
   ]
  },
  {
   "cell_type": "code",
   "execution_count": null,
   "id": "fbb5a08a",
   "metadata": {},
   "outputs": [],
   "source": [
    "count = 0\n",
    "for i in trackList:\n",
    "    print(i)\n",
    "    count = count + 1\n",
    "    if (count == 2):\n",
    "        break\n",
    "    else:\n",
    "        continue"
   ]
  },
  {
   "cell_type": "code",
   "execution_count": null,
   "id": "b44c0bbe",
   "metadata": {},
   "outputs": [],
   "source": [
    "items = trackList[0]"
   ]
  },
  {
   "cell_type": "code",
   "execution_count": null,
   "id": "6ef93189",
   "metadata": {},
   "outputs": [],
   "source": [
    "print(items['id'])"
   ]
  },
  {
   "cell_type": "code",
   "execution_count": null,
   "id": "f80d0848",
   "metadata": {},
   "outputs": [],
   "source": [
    "name = 'USLR50000797'\n",
    "results = sp.search(q='isrc:' + name, type='track', limit = 1)"
   ]
  },
  {
   "cell_type": "code",
   "execution_count": null,
   "id": "37a2b93c",
   "metadata": {},
   "outputs": [],
   "source": [
    "results"
   ]
  },
  {
   "cell_type": "code",
   "execution_count": null,
   "id": "614d90b3",
   "metadata": {},
   "outputs": [],
   "source": [
    "trackId = []\n",
    "name = 'detroit hip hop'\n",
    "results = sp.search(q='genre:' + name, type='track',limit=50)\n",
    "print(results)\n",
    "\n"
   ]
  },
  {
   "cell_type": "code",
   "execution_count": null,
   "id": "ce7196ef",
   "metadata": {},
   "outputs": [],
   "source": [
    "tracks = results['tracks']\n",
    "print(tracks)\n",
    "track1 = sp.next(tracks)"
   ]
  },
  {
   "cell_type": "code",
   "execution_count": null,
   "id": "7fe4a5f0",
   "metadata": {},
   "outputs": [],
   "source": [
    "print(track1)"
   ]
  },
  {
   "cell_type": "code",
   "execution_count": null,
   "id": "abd6bf50",
   "metadata": {},
   "outputs": [],
   "source": [
    "for i in Currgen:\n",
    "    fetch id from items"
   ]
  }
 ],
 "metadata": {
  "kernelspec": {
   "display_name": "Python 3",
   "language": "python",
   "name": "python3"
  },
  "language_info": {
   "codemirror_mode": {
    "name": "ipython",
    "version": 3
   },
   "file_extension": ".py",
   "mimetype": "text/x-python",
   "name": "python",
   "nbconvert_exporter": "python",
   "pygments_lexer": "ipython3",
   "version": "3.8.8"
  }
 },
 "nbformat": 4,
 "nbformat_minor": 5
}
