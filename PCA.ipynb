{
 "cells": [
  {
   "cell_type": "code",
   "execution_count": 1,
   "id": "c4ab0f41",
   "metadata": {},
   "outputs": [],
   "source": [
    "import matplotlib.pyplot as plt\n",
    "import pandas as pd\n",
    "import numpy as np\n",
    "import seaborn as sb\n",
    "%matplotlib inline"
   ]
  },
  {
   "cell_type": "code",
   "execution_count": 83,
   "id": "61025fce",
   "metadata": {},
   "outputs": [],
   "source": [
    "train_data = pd.read_csv('Location of file')"
   ]
  },
  {
   "cell_type": "code",
   "execution_count": 84,
   "id": "c0b136ed",
   "metadata": {},
   "outputs": [
    {
     "data": {
      "text/html": [
       "<div>\n",
       "<style scoped>\n",
       "    .dataframe tbody tr th:only-of-type {\n",
       "        vertical-align: middle;\n",
       "    }\n",
       "\n",
       "    .dataframe tbody tr th {\n",
       "        vertical-align: top;\n",
       "    }\n",
       "\n",
       "    .dataframe thead th {\n",
       "        text-align: right;\n",
       "    }\n",
       "</style>\n",
       "<table border=\"1\" class=\"dataframe\">\n",
       "  <thead>\n",
       "    <tr style=\"text-align: right;\">\n",
       "      <th></th>\n",
       "      <th>trackid</th>\n",
       "      <th>trackname</th>\n",
       "      <th>popularity</th>\n",
       "      <th>releasedate</th>\n",
       "      <th>artists</th>\n",
       "      <th>acousticness</th>\n",
       "      <th>danceability</th>\n",
       "      <th>energy</th>\n",
       "      <th>instrumentalness</th>\n",
       "      <th>liveness</th>\n",
       "      <th>loudness</th>\n",
       "      <th>speechiness</th>\n",
       "      <th>tempo</th>\n",
       "      <th>key</th>\n",
       "      <th>mode</th>\n",
       "      <th>valence</th>\n",
       "      <th>duration</th>\n",
       "      <th>genre</th>\n",
       "    </tr>\n",
       "  </thead>\n",
       "  <tbody>\n",
       "    <tr>\n",
       "      <th>0</th>\n",
       "      <td>5UWwZ5lm5PKu6eKsHAGxOk</td>\n",
       "      <td>Everlong</td>\n",
       "      <td>84</td>\n",
       "      <td>1997-05-20</td>\n",
       "      <td>{'id 1': '7jy3rLJdDQY21OgRLCZ9sD', 'name 1': '...</td>\n",
       "      <td>0.000060</td>\n",
       "      <td>0.413</td>\n",
       "      <td>0.881</td>\n",
       "      <td>0.000308</td>\n",
       "      <td>0.0805</td>\n",
       "      <td>-5.541</td>\n",
       "      <td>0.0367</td>\n",
       "      <td>158.066</td>\n",
       "      <td>11</td>\n",
       "      <td>0</td>\n",
       "      <td>0.364</td>\n",
       "      <td>250547</td>\n",
       "      <td>metal</td>\n",
       "    </tr>\n",
       "    <tr>\n",
       "      <th>1</th>\n",
       "      <td>60a0Rd6pjrkxjPbaKzXjfq</td>\n",
       "      <td>In the End</td>\n",
       "      <td>86</td>\n",
       "      <td>2000-10-24</td>\n",
       "      <td>{'id 1': '6XyY86QOPPrYVGvF9ch6wz', 'name 1': '...</td>\n",
       "      <td>0.009580</td>\n",
       "      <td>0.556</td>\n",
       "      <td>0.864</td>\n",
       "      <td>0.000000</td>\n",
       "      <td>0.2090</td>\n",
       "      <td>-5.870</td>\n",
       "      <td>0.0584</td>\n",
       "      <td>105.143</td>\n",
       "      <td>3</td>\n",
       "      <td>0</td>\n",
       "      <td>0.400</td>\n",
       "      <td>216880</td>\n",
       "      <td>metal</td>\n",
       "    </tr>\n",
       "    <tr>\n",
       "      <th>2</th>\n",
       "      <td>2DlHlPMa4M17kufBvI2lEN</td>\n",
       "      <td>Chop Suey!</td>\n",
       "      <td>83</td>\n",
       "      <td>2001-09-04</td>\n",
       "      <td>{'id 1': '5eAWCfyUhZtHHtBdNk56l1', 'name 1': '...</td>\n",
       "      <td>0.000278</td>\n",
       "      <td>0.417</td>\n",
       "      <td>0.934</td>\n",
       "      <td>0.001500</td>\n",
       "      <td>0.1320</td>\n",
       "      <td>-3.908</td>\n",
       "      <td>0.1190</td>\n",
       "      <td>127.066</td>\n",
       "      <td>7</td>\n",
       "      <td>0</td>\n",
       "      <td>0.287</td>\n",
       "      <td>210240</td>\n",
       "      <td>metal</td>\n",
       "    </tr>\n",
       "    <tr>\n",
       "      <th>3</th>\n",
       "      <td>373gDROnujxNTFa1FojYIl</td>\n",
       "      <td>Lost</td>\n",
       "      <td>84</td>\n",
       "      <td>2023-02-10</td>\n",
       "      <td>{'id 1': '6XyY86QOPPrYVGvF9ch6wz', 'name 1': '...</td>\n",
       "      <td>0.004120</td>\n",
       "      <td>0.596</td>\n",
       "      <td>0.798</td>\n",
       "      <td>0.000000</td>\n",
       "      <td>0.3380</td>\n",
       "      <td>-4.630</td>\n",
       "      <td>0.0285</td>\n",
       "      <td>105.010</td>\n",
       "      <td>0</td>\n",
       "      <td>1</td>\n",
       "      <td>0.459</td>\n",
       "      <td>199342</td>\n",
       "      <td>metal</td>\n",
       "    </tr>\n",
       "    <tr>\n",
       "      <th>4</th>\n",
       "      <td>3VqHuw0wFlIHcIPWkhIbdQ</td>\n",
       "      <td>Enter Sandman (Remastered)</td>\n",
       "      <td>75</td>\n",
       "      <td>1991-08-12</td>\n",
       "      <td>{'id 1': '2ye2Wgw4gimLv2eAKyk1NB', 'name 1': '...</td>\n",
       "      <td>0.002770</td>\n",
       "      <td>0.566</td>\n",
       "      <td>0.834</td>\n",
       "      <td>0.008000</td>\n",
       "      <td>0.0625</td>\n",
       "      <td>-8.412</td>\n",
       "      <td>0.0298</td>\n",
       "      <td>123.296</td>\n",
       "      <td>6</td>\n",
       "      <td>0</td>\n",
       "      <td>0.621</td>\n",
       "      <td>331560</td>\n",
       "      <td>metal</td>\n",
       "    </tr>\n",
       "    <tr>\n",
       "      <th>...</th>\n",
       "      <td>...</td>\n",
       "      <td>...</td>\n",
       "      <td>...</td>\n",
       "      <td>...</td>\n",
       "      <td>...</td>\n",
       "      <td>...</td>\n",
       "      <td>...</td>\n",
       "      <td>...</td>\n",
       "      <td>...</td>\n",
       "      <td>...</td>\n",
       "      <td>...</td>\n",
       "      <td>...</td>\n",
       "      <td>...</td>\n",
       "      <td>...</td>\n",
       "      <td>...</td>\n",
       "      <td>...</td>\n",
       "      <td>...</td>\n",
       "      <td>...</td>\n",
       "    </tr>\n",
       "    <tr>\n",
       "      <th>49997</th>\n",
       "      <td>3EVwNrVchN0ohZAe9j03C3</td>\n",
       "      <td>Hate Being Alone</td>\n",
       "      <td>37</td>\n",
       "      <td>2018-11-29</td>\n",
       "      <td>{'id 1': '20DZAfCuP1TKZl5KcY7z3Q', 'name 1': '...</td>\n",
       "      <td>0.013200</td>\n",
       "      <td>0.501</td>\n",
       "      <td>0.969</td>\n",
       "      <td>0.000005</td>\n",
       "      <td>0.1390</td>\n",
       "      <td>-2.011</td>\n",
       "      <td>0.3530</td>\n",
       "      <td>74.767</td>\n",
       "      <td>7</td>\n",
       "      <td>1</td>\n",
       "      <td>0.170</td>\n",
       "      <td>236833</td>\n",
       "      <td>dubstep</td>\n",
       "    </tr>\n",
       "    <tr>\n",
       "      <th>49998</th>\n",
       "      <td>6S8VqLOpx3ljoHWMisHJTy</td>\n",
       "      <td>Space Cathedral - Jkyl &amp; Hyde Remix</td>\n",
       "      <td>29</td>\n",
       "      <td>2023-03-24</td>\n",
       "      <td>{'id 1': '74RET4rCZPTGzhsLjD0i3g', 'name 1': '...</td>\n",
       "      <td>0.027800</td>\n",
       "      <td>0.379</td>\n",
       "      <td>0.936</td>\n",
       "      <td>0.781000</td>\n",
       "      <td>0.1190</td>\n",
       "      <td>-1.605</td>\n",
       "      <td>0.0890</td>\n",
       "      <td>137.475</td>\n",
       "      <td>1</td>\n",
       "      <td>0</td>\n",
       "      <td>0.124</td>\n",
       "      <td>250286</td>\n",
       "      <td>dubstep</td>\n",
       "    </tr>\n",
       "    <tr>\n",
       "      <th>49999</th>\n",
       "      <td>0gsPInjPU6qsGGdLnpgTHD</td>\n",
       "      <td>Melting (feat. EASAE)</td>\n",
       "      <td>39</td>\n",
       "      <td>2021-09-17</td>\n",
       "      <td>{'id 1': '06MSAITCPRhtuJMD4UL96s', 'name 1': '...</td>\n",
       "      <td>0.070800</td>\n",
       "      <td>0.159</td>\n",
       "      <td>0.589</td>\n",
       "      <td>0.001910</td>\n",
       "      <td>0.1060</td>\n",
       "      <td>-6.176</td>\n",
       "      <td>0.0599</td>\n",
       "      <td>74.920</td>\n",
       "      <td>9</td>\n",
       "      <td>1</td>\n",
       "      <td>0.152</td>\n",
       "      <td>270800</td>\n",
       "      <td>dubstep</td>\n",
       "    </tr>\n",
       "    <tr>\n",
       "      <th>50000</th>\n",
       "      <td>2ULg8Cw0Ckn5JDGUkCNXko</td>\n",
       "      <td>Hung Up</td>\n",
       "      <td>41</td>\n",
       "      <td>2016-12-02</td>\n",
       "      <td>{'id 1': '521qvhdobR0GzhvU6TFw76', 'name 1': '...</td>\n",
       "      <td>0.416000</td>\n",
       "      <td>0.443</td>\n",
       "      <td>0.726</td>\n",
       "      <td>0.000000</td>\n",
       "      <td>0.3690</td>\n",
       "      <td>-3.745</td>\n",
       "      <td>0.1670</td>\n",
       "      <td>119.824</td>\n",
       "      <td>7</td>\n",
       "      <td>1</td>\n",
       "      <td>0.370</td>\n",
       "      <td>220000</td>\n",
       "      <td>dubstep</td>\n",
       "    </tr>\n",
       "    <tr>\n",
       "      <th>50001</th>\n",
       "      <td>5wWrVP5z7uV6ZtRN4RPfgw</td>\n",
       "      <td>Drifters</td>\n",
       "      <td>43</td>\n",
       "      <td>2019-01-04</td>\n",
       "      <td>{'id 1': '6RQ9kYbHisp1UUbnfwHNeU', 'name 1': '...</td>\n",
       "      <td>0.047500</td>\n",
       "      <td>0.395</td>\n",
       "      <td>0.912</td>\n",
       "      <td>0.203000</td>\n",
       "      <td>0.1330</td>\n",
       "      <td>-4.092</td>\n",
       "      <td>0.0428</td>\n",
       "      <td>174.048</td>\n",
       "      <td>1</td>\n",
       "      <td>0</td>\n",
       "      <td>0.174</td>\n",
       "      <td>259310</td>\n",
       "      <td>dubstep</td>\n",
       "    </tr>\n",
       "  </tbody>\n",
       "</table>\n",
       "<p>50002 rows × 18 columns</p>\n",
       "</div>"
      ],
      "text/plain": [
       "                      trackid                            trackname  \\\n",
       "0      5UWwZ5lm5PKu6eKsHAGxOk                             Everlong   \n",
       "1      60a0Rd6pjrkxjPbaKzXjfq                           In the End   \n",
       "2      2DlHlPMa4M17kufBvI2lEN                           Chop Suey!   \n",
       "3      373gDROnujxNTFa1FojYIl                                 Lost   \n",
       "4      3VqHuw0wFlIHcIPWkhIbdQ           Enter Sandman (Remastered)   \n",
       "...                       ...                                  ...   \n",
       "49997  3EVwNrVchN0ohZAe9j03C3                     Hate Being Alone   \n",
       "49998  6S8VqLOpx3ljoHWMisHJTy  Space Cathedral - Jkyl & Hyde Remix   \n",
       "49999  0gsPInjPU6qsGGdLnpgTHD                Melting (feat. EASAE)   \n",
       "50000  2ULg8Cw0Ckn5JDGUkCNXko                              Hung Up   \n",
       "50001  5wWrVP5z7uV6ZtRN4RPfgw                             Drifters   \n",
       "\n",
       "       popularity releasedate  \\\n",
       "0              84  1997-05-20   \n",
       "1              86  2000-10-24   \n",
       "2              83  2001-09-04   \n",
       "3              84  2023-02-10   \n",
       "4              75  1991-08-12   \n",
       "...           ...         ...   \n",
       "49997          37  2018-11-29   \n",
       "49998          29  2023-03-24   \n",
       "49999          39  2021-09-17   \n",
       "50000          41  2016-12-02   \n",
       "50001          43  2019-01-04   \n",
       "\n",
       "                                                 artists  acousticness  \\\n",
       "0      {'id 1': '7jy3rLJdDQY21OgRLCZ9sD', 'name 1': '...      0.000060   \n",
       "1      {'id 1': '6XyY86QOPPrYVGvF9ch6wz', 'name 1': '...      0.009580   \n",
       "2      {'id 1': '5eAWCfyUhZtHHtBdNk56l1', 'name 1': '...      0.000278   \n",
       "3      {'id 1': '6XyY86QOPPrYVGvF9ch6wz', 'name 1': '...      0.004120   \n",
       "4      {'id 1': '2ye2Wgw4gimLv2eAKyk1NB', 'name 1': '...      0.002770   \n",
       "...                                                  ...           ...   \n",
       "49997  {'id 1': '20DZAfCuP1TKZl5KcY7z3Q', 'name 1': '...      0.013200   \n",
       "49998  {'id 1': '74RET4rCZPTGzhsLjD0i3g', 'name 1': '...      0.027800   \n",
       "49999  {'id 1': '06MSAITCPRhtuJMD4UL96s', 'name 1': '...      0.070800   \n",
       "50000  {'id 1': '521qvhdobR0GzhvU6TFw76', 'name 1': '...      0.416000   \n",
       "50001  {'id 1': '6RQ9kYbHisp1UUbnfwHNeU', 'name 1': '...      0.047500   \n",
       "\n",
       "       danceability  energy  instrumentalness  liveness  loudness  \\\n",
       "0             0.413   0.881          0.000308    0.0805    -5.541   \n",
       "1             0.556   0.864          0.000000    0.2090    -5.870   \n",
       "2             0.417   0.934          0.001500    0.1320    -3.908   \n",
       "3             0.596   0.798          0.000000    0.3380    -4.630   \n",
       "4             0.566   0.834          0.008000    0.0625    -8.412   \n",
       "...             ...     ...               ...       ...       ...   \n",
       "49997         0.501   0.969          0.000005    0.1390    -2.011   \n",
       "49998         0.379   0.936          0.781000    0.1190    -1.605   \n",
       "49999         0.159   0.589          0.001910    0.1060    -6.176   \n",
       "50000         0.443   0.726          0.000000    0.3690    -3.745   \n",
       "50001         0.395   0.912          0.203000    0.1330    -4.092   \n",
       "\n",
       "       speechiness    tempo  key  mode  valence  duration    genre  \n",
       "0           0.0367  158.066   11     0    0.364    250547    metal  \n",
       "1           0.0584  105.143    3     0    0.400    216880    metal  \n",
       "2           0.1190  127.066    7     0    0.287    210240    metal  \n",
       "3           0.0285  105.010    0     1    0.459    199342    metal  \n",
       "4           0.0298  123.296    6     0    0.621    331560    metal  \n",
       "...            ...      ...  ...   ...      ...       ...      ...  \n",
       "49997       0.3530   74.767    7     1    0.170    236833  dubstep  \n",
       "49998       0.0890  137.475    1     0    0.124    250286  dubstep  \n",
       "49999       0.0599   74.920    9     1    0.152    270800  dubstep  \n",
       "50000       0.1670  119.824    7     1    0.370    220000  dubstep  \n",
       "50001       0.0428  174.048    1     0    0.174    259310  dubstep  \n",
       "\n",
       "[50002 rows x 18 columns]"
      ]
     },
     "execution_count": 84,
     "metadata": {},
     "output_type": "execute_result"
    }
   ],
   "source": [
    "train_data"
   ]
  },
  {
   "cell_type": "code",
   "execution_count": 85,
   "id": "5abacaf4",
   "metadata": {},
   "outputs": [
    {
     "name": "stdout",
     "output_type": "stream",
     "text": [
      "Index(['popularity', 'acousticness', 'danceability', 'energy',\n",
      "       'instrumentalness', 'liveness', 'loudness', 'speechiness', 'tempo',\n",
      "       'mode', 'valence', 'duration'],\n",
      "      dtype='object')\n"
     ]
    }
   ],
   "source": [
    "train_data = train_data.drop(columns = ['trackid','trackname','releasedate','artists','key','genre'])\n",
    "train_data.head()\n",
    "train_data_columns = train_data.columns\n",
    "print(train_data_columns)"
   ]
  },
  {
   "cell_type": "code",
   "execution_count": 86,
   "id": "92b15a9e",
   "metadata": {},
   "outputs": [
    {
     "data": {
      "text/html": [
       "<style>#sk-container-id-6 {color: black;background-color: white;}#sk-container-id-6 pre{padding: 0;}#sk-container-id-6 div.sk-toggleable {background-color: white;}#sk-container-id-6 label.sk-toggleable__label {cursor: pointer;display: block;width: 100%;margin-bottom: 0;padding: 0.3em;box-sizing: border-box;text-align: center;}#sk-container-id-6 label.sk-toggleable__label-arrow:before {content: \"▸\";float: left;margin-right: 0.25em;color: #696969;}#sk-container-id-6 label.sk-toggleable__label-arrow:hover:before {color: black;}#sk-container-id-6 div.sk-estimator:hover label.sk-toggleable__label-arrow:before {color: black;}#sk-container-id-6 div.sk-toggleable__content {max-height: 0;max-width: 0;overflow: hidden;text-align: left;background-color: #f0f8ff;}#sk-container-id-6 div.sk-toggleable__content pre {margin: 0.2em;color: black;border-radius: 0.25em;background-color: #f0f8ff;}#sk-container-id-6 input.sk-toggleable__control:checked~div.sk-toggleable__content {max-height: 200px;max-width: 100%;overflow: auto;}#sk-container-id-6 input.sk-toggleable__control:checked~label.sk-toggleable__label-arrow:before {content: \"▾\";}#sk-container-id-6 div.sk-estimator input.sk-toggleable__control:checked~label.sk-toggleable__label {background-color: #d4ebff;}#sk-container-id-6 div.sk-label input.sk-toggleable__control:checked~label.sk-toggleable__label {background-color: #d4ebff;}#sk-container-id-6 input.sk-hidden--visually {border: 0;clip: rect(1px 1px 1px 1px);clip: rect(1px, 1px, 1px, 1px);height: 1px;margin: -1px;overflow: hidden;padding: 0;position: absolute;width: 1px;}#sk-container-id-6 div.sk-estimator {font-family: monospace;background-color: #f0f8ff;border: 1px dotted black;border-radius: 0.25em;box-sizing: border-box;margin-bottom: 0.5em;}#sk-container-id-6 div.sk-estimator:hover {background-color: #d4ebff;}#sk-container-id-6 div.sk-parallel-item::after {content: \"\";width: 100%;border-bottom: 1px solid gray;flex-grow: 1;}#sk-container-id-6 div.sk-label:hover label.sk-toggleable__label {background-color: #d4ebff;}#sk-container-id-6 div.sk-serial::before {content: \"\";position: absolute;border-left: 1px solid gray;box-sizing: border-box;top: 0;bottom: 0;left: 50%;z-index: 0;}#sk-container-id-6 div.sk-serial {display: flex;flex-direction: column;align-items: center;background-color: white;padding-right: 0.2em;padding-left: 0.2em;position: relative;}#sk-container-id-6 div.sk-item {position: relative;z-index: 1;}#sk-container-id-6 div.sk-parallel {display: flex;align-items: stretch;justify-content: center;background-color: white;position: relative;}#sk-container-id-6 div.sk-item::before, #sk-container-id-6 div.sk-parallel-item::before {content: \"\";position: absolute;border-left: 1px solid gray;box-sizing: border-box;top: 0;bottom: 0;left: 50%;z-index: -1;}#sk-container-id-6 div.sk-parallel-item {display: flex;flex-direction: column;z-index: 1;position: relative;background-color: white;}#sk-container-id-6 div.sk-parallel-item:first-child::after {align-self: flex-end;width: 50%;}#sk-container-id-6 div.sk-parallel-item:last-child::after {align-self: flex-start;width: 50%;}#sk-container-id-6 div.sk-parallel-item:only-child::after {width: 0;}#sk-container-id-6 div.sk-dashed-wrapped {border: 1px dashed gray;margin: 0 0.4em 0.5em 0.4em;box-sizing: border-box;padding-bottom: 0.4em;background-color: white;}#sk-container-id-6 div.sk-label label {font-family: monospace;font-weight: bold;display: inline-block;line-height: 1.2em;}#sk-container-id-6 div.sk-label-container {text-align: center;}#sk-container-id-6 div.sk-container {/* jupyter's `normalize.less` sets `[hidden] { display: none; }` but bootstrap.min.css set `[hidden] { display: none !important; }` so we also need the `!important` here to be able to override the default hidden behavior on the sphinx rendered scikit-learn.org. See: https://github.com/scikit-learn/scikit-learn/issues/21755 */display: inline-block !important;position: relative;}#sk-container-id-6 div.sk-text-repr-fallback {display: none;}</style><div id=\"sk-container-id-6\" class=\"sk-top-container\"><div class=\"sk-text-repr-fallback\"><pre>StandardScaler()</pre><b>In a Jupyter environment, please rerun this cell to show the HTML representation or trust the notebook. <br />On GitHub, the HTML representation is unable to render, please try loading this page with nbviewer.org.</b></div><div class=\"sk-container\" hidden><div class=\"sk-item\"><div class=\"sk-estimator sk-toggleable\"><input class=\"sk-toggleable__control sk-hidden--visually\" id=\"sk-estimator-id-6\" type=\"checkbox\" checked><label for=\"sk-estimator-id-6\" class=\"sk-toggleable__label sk-toggleable__label-arrow\">StandardScaler</label><div class=\"sk-toggleable__content\"><pre>StandardScaler()</pre></div></div></div></div></div>"
      ],
      "text/plain": [
       "StandardScaler()"
      ]
     },
     "execution_count": 86,
     "metadata": {},
     "output_type": "execute_result"
    }
   ],
   "source": [
    "from sklearn.preprocessing import StandardScaler\n",
    "scaler = StandardScaler()\n",
    "scaler.fit(train_data)"
   ]
  },
  {
   "cell_type": "code",
   "execution_count": 87,
   "id": "5b7d61f1",
   "metadata": {},
   "outputs": [
    {
     "name": "stdout",
     "output_type": "stream",
     "text": [
      "<class 'numpy.ndarray'>\n"
     ]
    }
   ],
   "source": [
    "scaled_data = scaler.transform(train_data)\n",
    "print(type(scaled_data))"
   ]
  },
  {
   "cell_type": "code",
   "execution_count": 88,
   "id": "a50c380d",
   "metadata": {},
   "outputs": [
    {
     "name": "stdout",
     "output_type": "stream",
     "text": [
      "scaled data shape  (50002, 12)\n",
      "pca shape  (50002, 2)\n"
     ]
    }
   ],
   "source": [
    "from sklearn.decomposition import PCA\n",
    "pca = PCA(n_components=2)\n",
    "pca.fit(scaled_data)\n",
    "x_pca = pca.transform(scaled_data)\n",
    "print('scaled data shape ',scaled_data.shape)\n",
    "print('pca shape ',x_pca.shape)"
   ]
  },
  {
   "cell_type": "code",
   "execution_count": 89,
   "id": "f4bf85b9",
   "metadata": {},
   "outputs": [
    {
     "name": "stderr",
     "output_type": "stream",
     "text": [
      "<ipython-input-89-bcb05aad803e>:2: UserWarning: No data for colormapping provided via 'c'. Parameters 'cmap' will be ignored\n",
      "  plt.scatter(x_pca[:,0],x_pca[:,1],cmap='rainbow')\n"
     ]
    },
    {
     "data": {
      "text/plain": [
       "Text(0, 0.5, 'Second Principal Component')"
      ]
     },
     "execution_count": 89,
     "metadata": {},
     "output_type": "execute_result"
    },
    {
     "data": {
      "image/png": "[encoded data removed]",
      "text/plain": [
       "<Figure size 576x432 with 1 Axes>"
      ]
     },
     "metadata": {
      "needs_background": "light"
     },
     "output_type": "display_data"
    }
   ],
   "source": [
    "plt.figure(figsize=(8,6))\n",
    "plt.scatter(x_pca[:,0],x_pca[:,1],cmap='rainbow')\n",
    "plt.xlabel('First principal component')\n",
    "plt.ylabel('Second Principal Component')"
   ]
  },
  {
   "cell_type": "code",
   "execution_count": 90,
   "id": "21829469",
   "metadata": {},
   "outputs": [
    {
     "name": "stdout",
     "output_type": "stream",
     "text": [
      "explained variance % [28.30962314 10.39564919]\n",
      "[[-1.69586482e-01  4.31646065e-01 -3.08558928e-01 -4.75819198e-01\n",
      "   3.34430162e-01 -1.07165546e-01 -4.70932693e-01 -1.50146857e-01\n",
      "  -1.50035310e-01  5.98191540e-02 -2.63763014e-01  2.41641583e-04]\n",
      " [ 2.14585889e-01 -2.24797346e-01 -5.49669695e-01  1.64777939e-01\n",
      "   3.73757950e-03  1.40087841e-01  1.70612599e-01 -2.39875542e-01\n",
      "   3.14422320e-01  4.72698015e-02 -5.48221408e-01  2.57294496e-01]]\n"
     ]
    }
   ],
   "source": [
    "print(\"explained variance %\",pca.explained_variance_ratio_*100)\n",
    "print(pca.components_)"
   ]
  },
  {
   "cell_type": "code",
   "execution_count": 91,
   "id": "250ae61d",
   "metadata": {},
   "outputs": [
    {
     "data": {
      "text/plain": [
       "<Axes: >"
      ]
     },
     "execution_count": 91,
     "metadata": {},
     "output_type": "execute_result"
    },
    {
     "data": {
      "image/png": "[encoded data removed]",
      "text/plain": [
       "<Figure size 864x432 with 2 Axes>"
      ]
     },
     "metadata": {
      "needs_background": "light"
     },
     "output_type": "display_data"
    }
   ],
   "source": [
    "map= pd.DataFrame(pca.components_,columns=train_data_columns)\n",
    "plt.figure(figsize=(12,6))\n",
    "sb.heatmap(map,cmap='PiYG')"
   ]
  },
  {
   "cell_type": "code",
   "execution_count": 92,
   "id": "1595ac1b",
   "metadata": {},
   "outputs": [
    {
     "data": {
      "image/png": "[encoded data removed]",
      "text/plain": [
       "<Figure size 432x288 with 1 Axes>"
      ]
     },
     "metadata": {
      "needs_background": "light"
     },
     "output_type": "display_data"
    }
   ],
   "source": [
    "pca.fit(train_data)\n",
    "plt.plot(range(1, len(pca.explained_variance_ratio_) + 1), pca.explained_variance_ratio_, 'ro-', linewidth=2)\n",
    "plt.title('Scree Plot')\n",
    "plt.xlabel('Principal Component')\n",
    "plt.ylabel('Proportion of Variance Explained')\n",
    "plt.show()"
   ]
  },
  {
   "cell_type": "code",
   "execution_count": 93,
   "id": "c75f4408",
   "metadata": {},
   "outputs": [
    {
     "name": "stdout",
     "output_type": "stream",
     "text": [
      "[9.99999921e-01 4.89090017e-08]\n"
     ]
    }
   ],
   "source": [
    "print(pca.explained_variance_ratio_)"
   ]
  },
  {
   "cell_type": "code",
   "execution_count": null,
   "id": "6cef35e1",
   "metadata": {},
   "outputs": [],
   "source": []
  }
 ],
 "metadata": {
  "kernelspec": {
   "display_name": "Python 3",
   "language": "python",
   "name": "python3"
  },
  "language_info": {
   "codemirror_mode": {
    "name": "ipython",
    "version": 3
   },
   "file_extension": ".py",
   "mimetype": "text/x-python",
   "name": "python",
   "nbconvert_exporter": "python",
   "pygments_lexer": "ipython3",
   "version": "3.8.8"
  }
 },
 "nbformat": 4,
 "nbformat_minor": 5
}
